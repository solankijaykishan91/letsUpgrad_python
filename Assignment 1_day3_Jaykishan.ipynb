{
 "cells": [
  {
   "cell_type": "code",
   "execution_count": 1,
   "metadata": {},
   "outputs": [],
   "source": [
    "#you are pilot and you have to land a plan at speed \n",
    "#1000 so write a program for it "
   ]
  },
  {
   "cell_type": "code",
   "execution_count": 6,
   "metadata": {},
   "outputs": [
    {
     "name": "stdout",
     "output_type": "stream",
     "text": [
      "enter speed in number6000\n",
      "turn around and try next time \n"
     ]
    }
   ],
   "source": [
    "Speed=input(\"enter speed in number\")\n",
    "Speed\n",
    "if Speed<=\"1000\":\n",
    "    print(\"safe to land\")\n",
    "elif Speed<=\"5000\":\n",
    "    print(\"bring it to 1000\")\n",
    "else:\n",
    "    print(\"turn around and try next time \")"
   ]
  }
 ],
 "metadata": {
  "kernelspec": {
   "display_name": "Python 3",
   "language": "python",
   "name": "python3"
  },
  "language_info": {
   "codemirror_mode": {
    "name": "ipython",
    "version": 3
   },
   "file_extension": ".py",
   "mimetype": "text/x-python",
   "name": "python",
   "nbconvert_exporter": "python",
   "pygments_lexer": "ipython3",
   "version": "3.8.3"
  }
 },
 "nbformat": 4,
 "nbformat_minor": 4
}
